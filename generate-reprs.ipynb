{
 "cells": [
  {
   "cell_type": "markdown",
   "metadata": {},
   "source": [
    "# Representation Generator for the h-space similarity explorer"
   ]
  },
  {
   "cell_type": "code",
   "execution_count": null,
   "metadata": {},
   "outputs": [],
   "source": [
    "import numpy as np\n",
    "from pathlib import Path\n",
    "import json\n",
    "from sdwrapper import SD\n",
    "from typing import Any\n",
    "from tqdm.notebook import tqdm"
   ]
  },
  {
   "cell_type": "markdown",
   "metadata": {},
   "source": [
    "## Config"
   ]
  },
  {
   "cell_type": "code",
   "execution_count": null,
   "metadata": {},
   "outputs": [],
   "source": [
    "models: list[dict[str,Any]] = [\n",
    "    dict(\n",
    "        short='SDXL-Turbo',\n",
    "        extract_positions = None,  # use all\n",
    "    ),\n",
    "    dict(\n",
    "        short='SDXL-Lightning',\n",
    "        extract_positions = ['down_blocks[0]', 'down_blocks[1]', 'down_blocks[2]', 'mid_block', 'conv_out'],\n",
    "    ),\n",
    "    dict(\n",
    "        short='SD-Turbo',\n",
    "        extract_positions = None,  # use all\n",
    "    ),\n",
    "    dict(\n",
    "        short='SD-1.5',\n",
    "        extract_positions = ['down_blocks[2]', 'down_blocks[3]', 'mid_block', 'up_blocks[0]', 'conv_out'],\n",
    "    ),\n",
    "]\n",
    "\n",
    "prompts = {\n",
    "    \"Cat\": \"A photo of a cat.\",\n",
    "    \"Dog\": \"A photograph of a husky, dog, looking friendly and cute.\",\n",
    "    \"Woman\": \"A photo of a beautiful, slightly smiling woman in the city.\",\n",
    "    \"OldMan\": \"A portrait of an old man with a long beard and a hat.\",\n",
    "    \"ConstructionWorker\": \"A photo of a hard working construction worker.\",\n",
    "    \"FuturisticCityscape\": \"A futuristic cityscape at sunset, with flying cars and towering skyscrapers, in the style of cyberpunk.\",\n",
    "    \"MountainLandscape\": \"A serene mountain landscape with a crystal-clear lake in the foreground, reflecting the snow-capped peaks under a bright blue sky.\",\n",
    "    \"SpaceAstronaut\": \"A high-res photo of an astronaut floating in the vastness of space, with a colorful nebula and distant galaxies in the background.\",\n",
    "    \"MagicalForest\": \"A magical forest filled with glowing plants, mythical creatures, and a pathway leading to an enchanted castle.\",\n",
    "    \"JapaneseGarden\": \"A traditional Japanese garden in spring, complete with cherry blossoms, a koi pond, and a wooden bridge.\",\n",
    "}\n",
    "\n",
    "seed = 0"
   ]
  },
  {
   "cell_type": "markdown",
   "metadata": {},
   "source": [
    "## Generate Representations"
   ]
  },
  {
   "cell_type": "code",
   "execution_count": null,
   "metadata": {},
   "outputs": [],
   "source": [
    "# setup output directory\n",
    "base_path = Path('representations')\n",
    "base_path.mkdir(exist_ok=True)\n",
    "with open(base_path / '.gitignore', 'w') as f:\n",
    "    f.write('*')\n",
    "\n",
    "# run the models\n",
    "for model_dict in models:\n",
    "    name_short = model_dict['short']\n",
    "    sd = SD(name_short, disable_progress_bar=True)\n",
    "    extract_positions = model_dict['extract_positions'] or sd.available_extract_positions\n",
    "    del model_dict['extract_positions']  # not needed anymore\n",
    "\n",
    "    def get_reprs(prompt):\n",
    "        result = sd(prompt, seed=seed, extract_positions=sd.available_extract_positions)\n",
    "        representations = {}\n",
    "        for pos, reprs in result.representations.items():\n",
    "            representations[pos] = []\n",
    "            for repr in reprs:\n",
    "                while isinstance(repr, tuple) or len(repr.shape) > 3:\n",
    "                    # ignore classifier-free model, batch-dimension, ...\n",
    "                    repr = repr[0]\n",
    "                representations[pos].append(repr.cpu().permute(1, 2, 0).numpy())\n",
    "        return representations, result.images\n",
    "\n",
    "    # fill model dict\n",
    "    model_dict |= {x: sd.config[x] for x in ['name', 'steps', 'guidance_scale']}\n",
    "\n",
    "    # note model h-space dimensions\n",
    "    representations, _ = get_reprs('')\n",
    "    model_dict['representations'] = {}\n",
    "    for pos, reprs in representations.items():\n",
    "        model_dict['representations'][pos] = {\n",
    "            'channels': reprs[0].shape[-1],\n",
    "            'spatial': reprs[0].shape[-2],\n",
    "            'available': pos in extract_positions,\n",
    "        }\n",
    "\n",
    "    # go through prompts\n",
    "    for i, (prompt_name, prompt) in enumerate(tqdm(prompts.items(), desc=f'Running {name_short}')):\n",
    "\n",
    "        # setup save path\n",
    "        save_path = base_path / name_short / prompt_name\n",
    "        save_path.mkdir(exist_ok=True, parents=True)\n",
    "\n",
    "        # run the model\n",
    "        representations, images = get_reprs(prompt)\n",
    "\n",
    "        # save representations\n",
    "        for pos in extract_positions:\n",
    "            for j, repr in enumerate(representations[pos], 0):\n",
    "                with open(save_path / f'repr-{pos}-{j}.bin', 'wb') as f:\n",
    "                    f.write(np.array(repr, dtype=np.float16).tobytes())\n",
    "\n",
    "        # save intermediate images\n",
    "        for j, img in enumerate(images, 1):\n",
    "            img.save(save_path / f'{j}.jpg')\n",
    "\n",
    "        # save config\n",
    "        git_hash = !git rev-parse main\n",
    "        with open(save_path / 'config.json', 'w') as f:\n",
    "            f.write(json.dumps({**model_dict, 'prompt_name': prompt_name, 'prompt': prompt, 'git_hash': git_hash[0], 'seed': seed}))\n",
    "\n",
    "# save global config files\n",
    "with open(base_path/'prompts.json', 'w') as f:\n",
    "    f.write(json.dumps(prompts))\n",
    "with open(base_path/'models.json', 'w') as f:\n",
    "    f.write(json.dumps(models))"
   ]
  }
 ],
 "metadata": {
  "kernelspec": {
   "display_name": "py311",
   "language": "python",
   "name": "python3"
  },
  "language_info": {
   "codemirror_mode": {
    "name": "ipython",
    "version": 3
   },
   "file_extension": ".py",
   "mimetype": "text/x-python",
   "name": "python",
   "nbconvert_exporter": "python",
   "pygments_lexer": "ipython3",
   "version": "3.11.6"
  }
 },
 "nbformat": 4,
 "nbformat_minor": 2
}
