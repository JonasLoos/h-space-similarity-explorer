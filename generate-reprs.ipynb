{
 "cells": [
  {
   "cell_type": "code",
   "execution_count": null,
   "metadata": {},
   "outputs": [],
   "source": [
    "from diffusers import AutoPipelineForText2Image\n",
    "import torch\n",
    "import numpy as np\n",
    "from pathlib import Path\n",
    "import json\n",
    "from PIL import Image"
   ]
  },
  {
   "cell_type": "code",
   "execution_count": null,
   "metadata": {},
   "outputs": [],
   "source": [
    "model = 'runwayml/stable-diffusion-v1-5'\n",
    "steps = 50"
   ]
  },
  {
   "cell_type": "code",
   "execution_count": null,
   "metadata": {},
   "outputs": [],
   "source": [
    "pipe = AutoPipelineForText2Image.from_pretrained(model, torch_dtype=torch.float16).to('cuda')"
   ]
  },
  {
   "cell_type": "code",
   "execution_count": null,
   "metadata": {},
   "outputs": [],
   "source": [
    "def get_reprs(prompt):\n",
    "    reprs = []\n",
    "    imgs = []\n",
    "    def get_repr(module, input, output):\n",
    "        reprs.append(output[0].cpu().numpy())\n",
    "    def latents_callback(i, t, latents):\n",
    "        latents = 1 / 0.18215 * latents\n",
    "        image = pipe.vae.decode(latents).sample[0]\n",
    "        image = (image / 2 + 0.5).clamp(0, 1)\n",
    "        image = image.cpu().permute(1, 2, 0).numpy()\n",
    "        imgs.extend(pipe.numpy_to_pil(image))\n",
    "\n",
    "    with pipe.unet.mid_block.register_forward_hook(get_repr):\n",
    "        pipe(prompt, callback=latents_callback, callback_steps=1)\n",
    "    return reprs, imgs\n",
    "\n",
    "prompts = {\n",
    "    \"Dog\": \"A photo of a dog.\",\n",
    "    \"Cat\": \"A photo of a cat.\",\n",
    "    \"Polarbear\": \"A photo of a polar bear.\",\n",
    "    \"FuturisticCityscape\": \"A futuristic cityscape at sunset, with flying cars and towering skyscrapers, in the style of cyberpunk.\",\n",
    "    \"MountainLandscape\": \"A serene mountain landscape with a crystal-clear lake in the foreground, reflecting the snow-capped peaks under a bright blue sky.\",\n",
    "    \"SpaceAstronaut\": \"An astronaut floating in the vastness of space, with a colorful nebula and distant galaxies in the background.\",\n",
    "    \"MedievalMarketplace\": \"A medieval marketplace bustling with people, stalls filled with fruits, vegetables, and handmade goods, with a castle in the distance.\",\n",
    "    \"MajesticLion\": \"A close-up portrait of a majestic lion, with detailed fur and piercing eyes, set against the backdrop of the African savannah at dusk.\",\n",
    "    \"AbstractCubism\": \"An abstract painting featuring swirling colors and geometric shapes, evoking the style of cubism.\",\n",
    "    \"VintageStreet\": \"A vintage 1950s street scene, with classic cars, neon signs, and pedestrians dressed in period attire.\",\n",
    "    \"MagicalForest\": \"A magical forest filled with glowing plants, mythical creatures, and a pathway leading to an enchanted castle.\",\n",
    "    \"SoccerGoal\": \"A dynamic sports scene capturing the moment a soccer player scores a goal, with the crowd cheering in the background.\",\n",
    "    \"JapaneseGarden\": \"A traditional Japanese garden in spring, complete with cherry blossoms, a koi pond, and a wooden bridge.\",\n",
    "}\n",
    "base_path = Path('representations')\n",
    "base_path.mkdir(exist_ok=True)\n",
    "outputs = []\n",
    "for i, (name, prompt) in enumerate(prompts.items()):\n",
    "    print(f'Prompt: {prompt}')\n",
    "    save_path = base_path / name\n",
    "    save_path.mkdir(exist_ok=True)\n",
    "    reprs, imgs = get_reprs(prompt)\n",
    "    # saving representations\n",
    "    with open(save_path / 'repr.bin', 'wb') as f:\n",
    "        f.write(np.array(np.stack(reprs), dtype=np.float32).tobytes())\n",
    "    # saving result\n",
    "    for j, img in enumerate(imgs, 1):\n",
    "        img.save(save_path / f'{j}.png')\n",
    "    # save config\n",
    "    with open(save_path / 'config.json', 'w') as f:\n",
    "        f.write(json.dumps({'model': model, 'steps': steps, 'prompt': prompt}))\n",
    "    outputs.append(save_path)\n",
    "with open(base_path / '.gitignore', 'w') as f:\n",
    "    f.write('*')\n",
    "with open(base_path/'outputs.txt', 'w') as f:\n",
    "    f.write('\\n'.join(str(x) for x in outputs))"
   ]
  }
 ],
 "metadata": {
  "language_info": {
   "name": "python"
  }
 },
 "nbformat": 4,
 "nbformat_minor": 2
}
