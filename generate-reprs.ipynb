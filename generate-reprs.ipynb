{
 "cells": [
  {
   "cell_type": "code",
   "execution_count": null,
   "metadata": {},
   "outputs": [],
   "source": [
    "from diffusers import AutoPipelineForText2Image\n",
    "import torch\n",
    "import numpy as np\n",
    "from pathlib import Path\n",
    "import json\n",
    "from PIL import Image"
   ]
  },
  {
   "cell_type": "code",
   "execution_count": null,
   "metadata": {},
   "outputs": [],
   "source": [
    "model = 'runwayml/stable-diffusion-v1-5'\n",
    "steps = 50"
   ]
  },
  {
   "cell_type": "code",
   "execution_count": null,
   "metadata": {},
   "outputs": [],
   "source": [
    "pipe = AutoPipelineForText2Image.from_pretrained(model, torch_dtype=torch.float16).to('cuda')"
   ]
  },
  {
   "cell_type": "code",
   "execution_count": null,
   "metadata": {},
   "outputs": [],
   "source": [
    "def get_reprs(prompt):\n",
    "    reprs = []\n",
    "    imgs = []\n",
    "    def get_repr(module, input, output):\n",
    "        reprs.append(output[0].cpu().numpy())\n",
    "    def get_img(module, input, output):\n",
    "        img = pipe.vae.decode(output[0] / 0.18215).sample[0].detach().cpu()  # where does 0.18215 come from?\n",
    "        img = ((img/2+.5) * 255).clamp(0, 255).numpy().astype(np.uint8).squeeze().transpose(1, 2, 0)\n",
    "        imgs.append(img)\n",
    "    def latents_callback(i, t, latents):\n",
    "        latents = 1 / 0.18215 * latents\n",
    "        image = pipe.vae.decode(latents).sample[0]\n",
    "        image = (image / 2 + 0.5).clamp(0, 1)\n",
    "        image = image.cpu().permute(1, 2, 0).numpy()\n",
    "        imgs.extend(pipe.numpy_to_pil(image))\n",
    "\n",
    "    with pipe.unet.mid_block.register_forward_hook(get_repr):\n",
    "        pipe(prompt, callback=latents_callback, callback_steps=1)\n",
    "    return reprs, imgs\n",
    "\n",
    "prompts = ['A photo of a cat.', 'A photo of a dog.']\n",
    "for i, prompt in enumerate(prompts):\n",
    "    print(f'Prompt: {prompt}')\n",
    "    save_path = Path(f'output{i}/')\n",
    "    save_path.mkdir(exist_ok=True)\n",
    "    reprs, imgs = get_reprs(prompt)\n",
    "    # saving representations\n",
    "    with open(save_path / 'repr.bin', 'wb') as f:\n",
    "        f.write(np.array(np.stack(reprs), dtype=np.float32).tobytes())\n",
    "    # saving result\n",
    "    for j, img in enumerate(imgs, 1):\n",
    "        img.save(save_path / f'{j}.png')\n",
    "    # save config\n",
    "    with open(save_path / 'config.json', 'w') as f:\n",
    "        f.write(json.dumps({'model': model, 'steps': steps, 'prompt': prompt}))\n",
    "    with open(save_path / '.gitignore', 'w') as f:\n",
    "        f.write('*')\n"
   ]
  }
 ],
 "metadata": {
  "language_info": {
   "name": "python"
  }
 },
 "nbformat": 4,
 "nbformat_minor": 2
}
